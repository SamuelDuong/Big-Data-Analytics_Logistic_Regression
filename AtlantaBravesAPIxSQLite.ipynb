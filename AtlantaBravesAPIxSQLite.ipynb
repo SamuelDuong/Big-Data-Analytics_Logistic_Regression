{
  "nbformat": 4,
  "nbformat_minor": 0,
  "metadata": {
    "colab": {
      "provenance": [],
      "authorship_tag": "ABX9TyMMvdwynOXdKU2CiasAV7Yt",
      "include_colab_link": true
    },
    "kernelspec": {
      "name": "python3",
      "display_name": "Python 3"
    },
    "language_info": {
      "name": "python"
    }
  },
  "cells": [
    {
      "cell_type": "markdown",
      "metadata": {
        "id": "view-in-github",
        "colab_type": "text"
      },
      "source": [
        "<a href=\"https://colab.research.google.com/github/SamuelDuong/Big-Data-Analytics_Logistic_Regression/blob/main/AtlantaBravesAPIxSQLite.ipynb\" target=\"_parent\"><img src=\"https://colab.research.google.com/assets/colab-badge.svg\" alt=\"Open In Colab\"/></a>"
      ]
    },
    {
      "cell_type": "markdown",
      "source": [
        "# **Data Wrangling Report**\n",
        "## **Overview**\n",
        "This report outlines the steps taken to extract public data from the MLB StatsAPI, analyze pitching statistics, and compare them with the PITCHBYPITCH database. The goal was to generate a CSV file containing relevant player data for further analysis.\n",
        "\n",
        "## **Step 1: Data Extraction**\n",
        "The data was extracted from the following StatsAPI endpoint:\n",
        "https://statsapi.mlb.com/api/v1/stats?stats=season&group=pitching&playerPool=all&season=2018&teamId=144\n"
      ],
      "metadata": {
        "id": "cx0vBKm_m6iu"
      }
    },
    {
      "cell_type": "code",
      "source": [
        "# Load necessary libraries\n",
        "import requests  # Replace httr\n",
        "import json\n",
        "import pandas as pd\n"
      ],
      "metadata": {
        "id": "NxUl56vctqeJ"
      },
      "execution_count": 1,
      "outputs": []
    },
    {
      "cell_type": "code",
      "source": [
        "# Define the URL of the API endpoint\n",
        "url = \"https://statsapi.mlb.com/api/v1/stats?stats=season&group=pitching&playerPool=all&season=2018&teamId=144\"\n",
        "\n",
        "# Send GET request to the API and parse the response\n",
        "response = requests.get(url)  # Use requests.get instead of httr.GET\n",
        "data = response.text\n",
        "data_json = json.loads(data)  # Use json.loads"
      ],
      "metadata": {
        "id": "ZOJwjyh2ttTf"
      },
      "execution_count": 2,
      "outputs": []
    },
    {
      "source": [
        "# Extract relevant player stats from StatsAPI\n",
        "players = data_json['stats'][0]['splits']\n",
        "\n",
        "# Convert to DataFrame for manipulation\n",
        "player_stats_df = pd.DataFrame(players)\n",
        "\n",
        "# Extract nested data and create new columns\n",
        "player_stats_df['playerId'] = player_stats_df['player'].apply(lambda x: x['id'])\n",
        "player_stats_df['playerName'] = player_stats_df['player'].apply(lambda x: x['fullName'])\n",
        "player_stats_df['gamesPlayed'] = player_stats_df['stat'].apply(lambda x: x['gamesPlayed'])\n",
        "player_stats_df['inningsPitched'] = player_stats_df['stat'].apply(lambda x: x['inningsPitched'])\n",
        "player_stats_df['strikeouts'] = player_stats_df['stat'].apply(lambda x: x['strikeOuts'])\n",
        "player_stats_df['walks'] = player_stats_df['stat'].apply(lambda x: x['baseOnBalls'])\n",
        "player_stats_df['homeRuns'] = player_stats_df['stat'].apply(lambda x: x['homeRuns'])\n",
        "player_stats_df['earnedRuns'] = player_stats_df['stat'].apply(lambda x: x['earnedRuns'])\n",
        "\n",
        "\n"
      ],
      "cell_type": "code",
      "metadata": {
        "id": "EnfnciibvZeo"
      },
      "execution_count": 34,
      "outputs": []
    },
    {
      "cell_type": "markdown",
      "source": [
        "### *Explanation of the Code*\n",
        "\n",
        "1. Nested Data Structure:\n",
        "  * The data structure is considered \"nested\" because the relevant information\n",
        "(player IDs, names, and statistics) is embedded within different dictionaries in the main dataset. This requires extracting specific fields from these inner dictionaries.\n",
        "2. Use of` apply()` and *lambda* Functions:\n",
        "* The `apply()` function is utilized to iterate over each row of the DataFrame and perform operations on it.\n",
        "* A lambda function provides a concise way to define small functions for extracting specific values from the dictionaries. For example, lambda x: x['id'] retrieves the player's ID, while lambda x: x['gamesPlayed'] fetches the number of games played.\n",
        "* This approach simplifies the extraction process and ensures that each piece of information is accurately obtained.\n",
        "\n",
        "3. Selection of Relevant Columns:\n",
        "* After extracting the necessary information, a new DataFrame named player_stats is created. This DataFrame contains only the columns of interest: player ID, player name, games played, innings pitched, strikeouts, walks, home runs, and earned runs.\n",
        "\n",
        "* This organization allows for easier analysis and comparison with the PITCHBYPITCH database."
      ],
      "metadata": {
        "id": "ORiqIyfYoFJG"
      }
    },
    {
      "cell_type": "code",
      "source": [
        "# Select the desired columns from StatsAPI data\n",
        "player_stats = player_stats_df[[\n",
        "    'playerId', 'playerName', 'gamesPlayed', 'inningsPitched',\n",
        "    'strikeouts', 'walks', 'homeRuns', 'earnedRuns'\n",
        "]]"
      ],
      "metadata": {
        "id": "Py4wyLylnlo_"
      },
      "execution_count": null,
      "outputs": []
    },
    {
      "cell_type": "code",
      "source": [
        "player_stats_df.head()"
      ],
      "metadata": {
        "colab": {
          "base_uri": "https://localhost:8080/",
          "height": 660
        },
        "id": "GgLrEaMnvqEV",
        "outputId": "5f662924-f479-4c00-f0f7-7c21568523e8"
      },
      "execution_count": 35,
      "outputs": [
        {
          "output_type": "execute_result",
          "data": {
            "text/plain": [
              "  season                                               stat  \\\n",
              "0   2018  {'gamesPlayed': 27, 'gamesStarted': 0, 'ground...   \n",
              "1   2018  {'gamesPlayed': 14, 'gamesStarted': 0, 'ground...   \n",
              "2   2018  {'gamesPlayed': 39, 'gamesStarted': 0, 'ground...   \n",
              "3   2018  {'gamesPlayed': 25, 'gamesStarted': 24, 'groun...   \n",
              "4   2018  {'gamesPlayed': 31, 'gamesStarted': 31, 'groun...   \n",
              "\n",
              "                                                team  \\\n",
              "0  {'id': 144, 'name': 'Atlanta Braves', 'link': ...   \n",
              "1  {'id': 144, 'name': 'Atlanta Braves', 'link': ...   \n",
              "2  {'id': 144, 'name': 'Atlanta Braves', 'link': ...   \n",
              "3  {'id': 144, 'name': 'Atlanta Braves', 'link': ...   \n",
              "4  {'id': 144, 'name': 'Atlanta Braves', 'link': ...   \n",
              "\n",
              "                                              player  \\\n",
              "0  {'id': 542960, 'fullName': 'Brad Brach', 'link...   \n",
              "1  {'id': 656977, 'fullName': 'Chad Sobotka', 'li...   \n",
              "2  {'id': 527055, 'fullName': 'Arodys Vizcaíno', ...   \n",
              "3  {'id': 434671, 'fullName': 'Aníbal Sánchez', '...   \n",
              "4  {'id': 592314, 'fullName': 'Mike Foltynewicz',...   \n",
              "\n",
              "                                              league  \\\n",
              "0  {'id': 104, 'name': 'NL', 'link': '/api/v1/lea...   \n",
              "1  {'id': 104, 'name': 'NL', 'link': '/api/v1/lea...   \n",
              "2  {'id': 104, 'name': 'NL', 'link': '/api/v1/lea...   \n",
              "3  {'id': 104, 'name': 'NL', 'link': '/api/v1/lea...   \n",
              "4  {'id': 104, 'name': 'NL', 'link': '/api/v1/lea...   \n",
              "\n",
              "                                               sport  rank  \\\n",
              "0  {'id': 1, 'link': '/api/v1/sports/1', 'abbrevi...     1   \n",
              "1  {'id': 1, 'link': '/api/v1/sports/1', 'abbrevi...     2   \n",
              "2  {'id': 1, 'link': '/api/v1/sports/1', 'abbrevi...     3   \n",
              "3  {'id': 1, 'link': '/api/v1/sports/1', 'abbrevi...     4   \n",
              "4  {'id': 1, 'link': '/api/v1/sports/1', 'abbrevi...     5   \n",
              "\n",
              "                                            position  playerId  \\\n",
              "0  {'code': '1', 'name': 'Pitcher', 'type': 'Pitc...    542960   \n",
              "1  {'code': '1', 'name': 'Pitcher', 'type': 'Pitc...    656977   \n",
              "2  {'code': '1', 'name': 'Pitcher', 'type': 'Pitc...    527055   \n",
              "3  {'code': '1', 'name': 'Pitcher', 'type': 'Pitc...    434671   \n",
              "4  {'code': '1', 'name': 'Pitcher', 'type': 'Pitc...    592314   \n",
              "\n",
              "         playerName  gamesPlayed inningsPitched  strikeouts  walks  homeRuns  \\\n",
              "0        Brad Brach           27           23.2          22      9         1   \n",
              "1      Chad Sobotka           14           14.1          21      9         2   \n",
              "2   Arodys Vizcaíno           39           38.1          40     15         4   \n",
              "3    Aníbal Sánchez           25          136.2         135     42        15   \n",
              "4  Mike Foltynewicz           31          183.0         202     68        17   \n",
              "\n",
              "   earnedRuns  \n",
              "0           4  \n",
              "1           3  \n",
              "2           9  \n",
              "3          43  \n",
              "4          58  "
            ],
            "text/html": [
              "\n",
              "  <div id=\"df-dd55ccc0-04a9-4c04-9f50-2ba533c8efcb\" class=\"colab-df-container\">\n",
              "    <div>\n",
              "<style scoped>\n",
              "    .dataframe tbody tr th:only-of-type {\n",
              "        vertical-align: middle;\n",
              "    }\n",
              "\n",
              "    .dataframe tbody tr th {\n",
              "        vertical-align: top;\n",
              "    }\n",
              "\n",
              "    .dataframe thead th {\n",
              "        text-align: right;\n",
              "    }\n",
              "</style>\n",
              "<table border=\"1\" class=\"dataframe\">\n",
              "  <thead>\n",
              "    <tr style=\"text-align: right;\">\n",
              "      <th></th>\n",
              "      <th>season</th>\n",
              "      <th>stat</th>\n",
              "      <th>team</th>\n",
              "      <th>player</th>\n",
              "      <th>league</th>\n",
              "      <th>sport</th>\n",
              "      <th>rank</th>\n",
              "      <th>position</th>\n",
              "      <th>playerId</th>\n",
              "      <th>playerName</th>\n",
              "      <th>gamesPlayed</th>\n",
              "      <th>inningsPitched</th>\n",
              "      <th>strikeouts</th>\n",
              "      <th>walks</th>\n",
              "      <th>homeRuns</th>\n",
              "      <th>earnedRuns</th>\n",
              "    </tr>\n",
              "  </thead>\n",
              "  <tbody>\n",
              "    <tr>\n",
              "      <th>0</th>\n",
              "      <td>2018</td>\n",
              "      <td>{'gamesPlayed': 27, 'gamesStarted': 0, 'ground...</td>\n",
              "      <td>{'id': 144, 'name': 'Atlanta Braves', 'link': ...</td>\n",
              "      <td>{'id': 542960, 'fullName': 'Brad Brach', 'link...</td>\n",
              "      <td>{'id': 104, 'name': 'NL', 'link': '/api/v1/lea...</td>\n",
              "      <td>{'id': 1, 'link': '/api/v1/sports/1', 'abbrevi...</td>\n",
              "      <td>1</td>\n",
              "      <td>{'code': '1', 'name': 'Pitcher', 'type': 'Pitc...</td>\n",
              "      <td>542960</td>\n",
              "      <td>Brad Brach</td>\n",
              "      <td>27</td>\n",
              "      <td>23.2</td>\n",
              "      <td>22</td>\n",
              "      <td>9</td>\n",
              "      <td>1</td>\n",
              "      <td>4</td>\n",
              "    </tr>\n",
              "    <tr>\n",
              "      <th>1</th>\n",
              "      <td>2018</td>\n",
              "      <td>{'gamesPlayed': 14, 'gamesStarted': 0, 'ground...</td>\n",
              "      <td>{'id': 144, 'name': 'Atlanta Braves', 'link': ...</td>\n",
              "      <td>{'id': 656977, 'fullName': 'Chad Sobotka', 'li...</td>\n",
              "      <td>{'id': 104, 'name': 'NL', 'link': '/api/v1/lea...</td>\n",
              "      <td>{'id': 1, 'link': '/api/v1/sports/1', 'abbrevi...</td>\n",
              "      <td>2</td>\n",
              "      <td>{'code': '1', 'name': 'Pitcher', 'type': 'Pitc...</td>\n",
              "      <td>656977</td>\n",
              "      <td>Chad Sobotka</td>\n",
              "      <td>14</td>\n",
              "      <td>14.1</td>\n",
              "      <td>21</td>\n",
              "      <td>9</td>\n",
              "      <td>2</td>\n",
              "      <td>3</td>\n",
              "    </tr>\n",
              "    <tr>\n",
              "      <th>2</th>\n",
              "      <td>2018</td>\n",
              "      <td>{'gamesPlayed': 39, 'gamesStarted': 0, 'ground...</td>\n",
              "      <td>{'id': 144, 'name': 'Atlanta Braves', 'link': ...</td>\n",
              "      <td>{'id': 527055, 'fullName': 'Arodys Vizcaíno', ...</td>\n",
              "      <td>{'id': 104, 'name': 'NL', 'link': '/api/v1/lea...</td>\n",
              "      <td>{'id': 1, 'link': '/api/v1/sports/1', 'abbrevi...</td>\n",
              "      <td>3</td>\n",
              "      <td>{'code': '1', 'name': 'Pitcher', 'type': 'Pitc...</td>\n",
              "      <td>527055</td>\n",
              "      <td>Arodys Vizcaíno</td>\n",
              "      <td>39</td>\n",
              "      <td>38.1</td>\n",
              "      <td>40</td>\n",
              "      <td>15</td>\n",
              "      <td>4</td>\n",
              "      <td>9</td>\n",
              "    </tr>\n",
              "    <tr>\n",
              "      <th>3</th>\n",
              "      <td>2018</td>\n",
              "      <td>{'gamesPlayed': 25, 'gamesStarted': 24, 'groun...</td>\n",
              "      <td>{'id': 144, 'name': 'Atlanta Braves', 'link': ...</td>\n",
              "      <td>{'id': 434671, 'fullName': 'Aníbal Sánchez', '...</td>\n",
              "      <td>{'id': 104, 'name': 'NL', 'link': '/api/v1/lea...</td>\n",
              "      <td>{'id': 1, 'link': '/api/v1/sports/1', 'abbrevi...</td>\n",
              "      <td>4</td>\n",
              "      <td>{'code': '1', 'name': 'Pitcher', 'type': 'Pitc...</td>\n",
              "      <td>434671</td>\n",
              "      <td>Aníbal Sánchez</td>\n",
              "      <td>25</td>\n",
              "      <td>136.2</td>\n",
              "      <td>135</td>\n",
              "      <td>42</td>\n",
              "      <td>15</td>\n",
              "      <td>43</td>\n",
              "    </tr>\n",
              "    <tr>\n",
              "      <th>4</th>\n",
              "      <td>2018</td>\n",
              "      <td>{'gamesPlayed': 31, 'gamesStarted': 31, 'groun...</td>\n",
              "      <td>{'id': 144, 'name': 'Atlanta Braves', 'link': ...</td>\n",
              "      <td>{'id': 592314, 'fullName': 'Mike Foltynewicz',...</td>\n",
              "      <td>{'id': 104, 'name': 'NL', 'link': '/api/v1/lea...</td>\n",
              "      <td>{'id': 1, 'link': '/api/v1/sports/1', 'abbrevi...</td>\n",
              "      <td>5</td>\n",
              "      <td>{'code': '1', 'name': 'Pitcher', 'type': 'Pitc...</td>\n",
              "      <td>592314</td>\n",
              "      <td>Mike Foltynewicz</td>\n",
              "      <td>31</td>\n",
              "      <td>183.0</td>\n",
              "      <td>202</td>\n",
              "      <td>68</td>\n",
              "      <td>17</td>\n",
              "      <td>58</td>\n",
              "    </tr>\n",
              "  </tbody>\n",
              "</table>\n",
              "</div>\n",
              "    <div class=\"colab-df-buttons\">\n",
              "\n",
              "  <div class=\"colab-df-container\">\n",
              "    <button class=\"colab-df-convert\" onclick=\"convertToInteractive('df-dd55ccc0-04a9-4c04-9f50-2ba533c8efcb')\"\n",
              "            title=\"Convert this dataframe to an interactive table.\"\n",
              "            style=\"display:none;\">\n",
              "\n",
              "  <svg xmlns=\"http://www.w3.org/2000/svg\" height=\"24px\" viewBox=\"0 -960 960 960\">\n",
              "    <path d=\"M120-120v-720h720v720H120Zm60-500h600v-160H180v160Zm220 220h160v-160H400v160Zm0 220h160v-160H400v160ZM180-400h160v-160H180v160Zm440 0h160v-160H620v160ZM180-180h160v-160H180v160Zm440 0h160v-160H620v160Z\"/>\n",
              "  </svg>\n",
              "    </button>\n",
              "\n",
              "  <style>\n",
              "    .colab-df-container {\n",
              "      display:flex;\n",
              "      gap: 12px;\n",
              "    }\n",
              "\n",
              "    .colab-df-convert {\n",
              "      background-color: #E8F0FE;\n",
              "      border: none;\n",
              "      border-radius: 50%;\n",
              "      cursor: pointer;\n",
              "      display: none;\n",
              "      fill: #1967D2;\n",
              "      height: 32px;\n",
              "      padding: 0 0 0 0;\n",
              "      width: 32px;\n",
              "    }\n",
              "\n",
              "    .colab-df-convert:hover {\n",
              "      background-color: #E2EBFA;\n",
              "      box-shadow: 0px 1px 2px rgba(60, 64, 67, 0.3), 0px 1px 3px 1px rgba(60, 64, 67, 0.15);\n",
              "      fill: #174EA6;\n",
              "    }\n",
              "\n",
              "    .colab-df-buttons div {\n",
              "      margin-bottom: 4px;\n",
              "    }\n",
              "\n",
              "    [theme=dark] .colab-df-convert {\n",
              "      background-color: #3B4455;\n",
              "      fill: #D2E3FC;\n",
              "    }\n",
              "\n",
              "    [theme=dark] .colab-df-convert:hover {\n",
              "      background-color: #434B5C;\n",
              "      box-shadow: 0px 1px 3px 1px rgba(0, 0, 0, 0.15);\n",
              "      filter: drop-shadow(0px 1px 2px rgba(0, 0, 0, 0.3));\n",
              "      fill: #FFFFFF;\n",
              "    }\n",
              "  </style>\n",
              "\n",
              "    <script>\n",
              "      const buttonEl =\n",
              "        document.querySelector('#df-dd55ccc0-04a9-4c04-9f50-2ba533c8efcb button.colab-df-convert');\n",
              "      buttonEl.style.display =\n",
              "        google.colab.kernel.accessAllowed ? 'block' : 'none';\n",
              "\n",
              "      async function convertToInteractive(key) {\n",
              "        const element = document.querySelector('#df-dd55ccc0-04a9-4c04-9f50-2ba533c8efcb');\n",
              "        const dataTable =\n",
              "          await google.colab.kernel.invokeFunction('convertToInteractive',\n",
              "                                                    [key], {});\n",
              "        if (!dataTable) return;\n",
              "\n",
              "        const docLinkHtml = 'Like what you see? Visit the ' +\n",
              "          '<a target=\"_blank\" href=https://colab.research.google.com/notebooks/data_table.ipynb>data table notebook</a>'\n",
              "          + ' to learn more about interactive tables.';\n",
              "        element.innerHTML = '';\n",
              "        dataTable['output_type'] = 'display_data';\n",
              "        await google.colab.output.renderOutput(dataTable, element);\n",
              "        const docLink = document.createElement('div');\n",
              "        docLink.innerHTML = docLinkHtml;\n",
              "        element.appendChild(docLink);\n",
              "      }\n",
              "    </script>\n",
              "  </div>\n",
              "\n",
              "\n",
              "<div id=\"df-21b2bf60-e1bb-410e-89d1-984f4d752550\">\n",
              "  <button class=\"colab-df-quickchart\" onclick=\"quickchart('df-21b2bf60-e1bb-410e-89d1-984f4d752550')\"\n",
              "            title=\"Suggest charts\"\n",
              "            style=\"display:none;\">\n",
              "\n",
              "<svg xmlns=\"http://www.w3.org/2000/svg\" height=\"24px\"viewBox=\"0 0 24 24\"\n",
              "     width=\"24px\">\n",
              "    <g>\n",
              "        <path d=\"M19 3H5c-1.1 0-2 .9-2 2v14c0 1.1.9 2 2 2h14c1.1 0 2-.9 2-2V5c0-1.1-.9-2-2-2zM9 17H7v-7h2v7zm4 0h-2V7h2v10zm4 0h-2v-4h2v4z\"/>\n",
              "    </g>\n",
              "</svg>\n",
              "  </button>\n",
              "\n",
              "<style>\n",
              "  .colab-df-quickchart {\n",
              "      --bg-color: #E8F0FE;\n",
              "      --fill-color: #1967D2;\n",
              "      --hover-bg-color: #E2EBFA;\n",
              "      --hover-fill-color: #174EA6;\n",
              "      --disabled-fill-color: #AAA;\n",
              "      --disabled-bg-color: #DDD;\n",
              "  }\n",
              "\n",
              "  [theme=dark] .colab-df-quickchart {\n",
              "      --bg-color: #3B4455;\n",
              "      --fill-color: #D2E3FC;\n",
              "      --hover-bg-color: #434B5C;\n",
              "      --hover-fill-color: #FFFFFF;\n",
              "      --disabled-bg-color: #3B4455;\n",
              "      --disabled-fill-color: #666;\n",
              "  }\n",
              "\n",
              "  .colab-df-quickchart {\n",
              "    background-color: var(--bg-color);\n",
              "    border: none;\n",
              "    border-radius: 50%;\n",
              "    cursor: pointer;\n",
              "    display: none;\n",
              "    fill: var(--fill-color);\n",
              "    height: 32px;\n",
              "    padding: 0;\n",
              "    width: 32px;\n",
              "  }\n",
              "\n",
              "  .colab-df-quickchart:hover {\n",
              "    background-color: var(--hover-bg-color);\n",
              "    box-shadow: 0 1px 2px rgba(60, 64, 67, 0.3), 0 1px 3px 1px rgba(60, 64, 67, 0.15);\n",
              "    fill: var(--button-hover-fill-color);\n",
              "  }\n",
              "\n",
              "  .colab-df-quickchart-complete:disabled,\n",
              "  .colab-df-quickchart-complete:disabled:hover {\n",
              "    background-color: var(--disabled-bg-color);\n",
              "    fill: var(--disabled-fill-color);\n",
              "    box-shadow: none;\n",
              "  }\n",
              "\n",
              "  .colab-df-spinner {\n",
              "    border: 2px solid var(--fill-color);\n",
              "    border-color: transparent;\n",
              "    border-bottom-color: var(--fill-color);\n",
              "    animation:\n",
              "      spin 1s steps(1) infinite;\n",
              "  }\n",
              "\n",
              "  @keyframes spin {\n",
              "    0% {\n",
              "      border-color: transparent;\n",
              "      border-bottom-color: var(--fill-color);\n",
              "      border-left-color: var(--fill-color);\n",
              "    }\n",
              "    20% {\n",
              "      border-color: transparent;\n",
              "      border-left-color: var(--fill-color);\n",
              "      border-top-color: var(--fill-color);\n",
              "    }\n",
              "    30% {\n",
              "      border-color: transparent;\n",
              "      border-left-color: var(--fill-color);\n",
              "      border-top-color: var(--fill-color);\n",
              "      border-right-color: var(--fill-color);\n",
              "    }\n",
              "    40% {\n",
              "      border-color: transparent;\n",
              "      border-right-color: var(--fill-color);\n",
              "      border-top-color: var(--fill-color);\n",
              "    }\n",
              "    60% {\n",
              "      border-color: transparent;\n",
              "      border-right-color: var(--fill-color);\n",
              "    }\n",
              "    80% {\n",
              "      border-color: transparent;\n",
              "      border-right-color: var(--fill-color);\n",
              "      border-bottom-color: var(--fill-color);\n",
              "    }\n",
              "    90% {\n",
              "      border-color: transparent;\n",
              "      border-bottom-color: var(--fill-color);\n",
              "    }\n",
              "  }\n",
              "</style>\n",
              "\n",
              "  <script>\n",
              "    async function quickchart(key) {\n",
              "      const quickchartButtonEl =\n",
              "        document.querySelector('#' + key + ' button');\n",
              "      quickchartButtonEl.disabled = true;  // To prevent multiple clicks.\n",
              "      quickchartButtonEl.classList.add('colab-df-spinner');\n",
              "      try {\n",
              "        const charts = await google.colab.kernel.invokeFunction(\n",
              "            'suggestCharts', [key], {});\n",
              "      } catch (error) {\n",
              "        console.error('Error during call to suggestCharts:', error);\n",
              "      }\n",
              "      quickchartButtonEl.classList.remove('colab-df-spinner');\n",
              "      quickchartButtonEl.classList.add('colab-df-quickchart-complete');\n",
              "    }\n",
              "    (() => {\n",
              "      let quickchartButtonEl =\n",
              "        document.querySelector('#df-21b2bf60-e1bb-410e-89d1-984f4d752550 button');\n",
              "      quickchartButtonEl.style.display =\n",
              "        google.colab.kernel.accessAllowed ? 'block' : 'none';\n",
              "    })();\n",
              "  </script>\n",
              "</div>\n",
              "\n",
              "    </div>\n",
              "  </div>\n"
            ],
            "application/vnd.google.colaboratory.intrinsic+json": {
              "type": "dataframe",
              "variable_name": "player_stats_df",
              "summary": "{\n  \"name\": \"player_stats_df\",\n  \"rows\": 35,\n  \"fields\": [\n    {\n      \"column\": \"season\",\n      \"properties\": {\n        \"dtype\": \"object\",\n        \"num_unique_values\": 1,\n        \"samples\": [\n          \"2018\"\n        ],\n        \"semantic_type\": \"\",\n        \"description\": \"\"\n      }\n    },\n    {\n      \"column\": \"stat\",\n      \"properties\": {\n        \"dtype\": \"object\",\n        \"semantic_type\": \"\",\n        \"description\": \"\"\n      }\n    },\n    {\n      \"column\": \"team\",\n      \"properties\": {\n        \"dtype\": \"object\",\n        \"semantic_type\": \"\",\n        \"description\": \"\"\n      }\n    },\n    {\n      \"column\": \"player\",\n      \"properties\": {\n        \"dtype\": \"object\",\n        \"semantic_type\": \"\",\n        \"description\": \"\"\n      }\n    },\n    {\n      \"column\": \"league\",\n      \"properties\": {\n        \"dtype\": \"object\",\n        \"semantic_type\": \"\",\n        \"description\": \"\"\n      }\n    },\n    {\n      \"column\": \"sport\",\n      \"properties\": {\n        \"dtype\": \"object\",\n        \"semantic_type\": \"\",\n        \"description\": \"\"\n      }\n    },\n    {\n      \"column\": \"rank\",\n      \"properties\": {\n        \"dtype\": \"number\",\n        \"std\": 10,\n        \"min\": 1,\n        \"max\": 35,\n        \"num_unique_values\": 34,\n        \"samples\": [\n          16\n        ],\n        \"semantic_type\": \"\",\n        \"description\": \"\"\n      }\n    },\n    {\n      \"column\": \"position\",\n      \"properties\": {\n        \"dtype\": \"object\",\n        \"semantic_type\": \"\",\n        \"description\": \"\"\n      }\n    },\n    {\n      \"column\": \"playerId\",\n      \"properties\": {\n        \"dtype\": \"number\",\n        \"std\": 68758,\n        \"min\": 434671,\n        \"max\": 669060,\n        \"num_unique_values\": 35,\n        \"samples\": [\n          608371\n        ],\n        \"semantic_type\": \"\",\n        \"description\": \"\"\n      }\n    },\n    {\n      \"column\": \"playerName\",\n      \"properties\": {\n        \"dtype\": \"string\",\n        \"num_unique_values\": 35,\n        \"samples\": [\n          \"Lucas Sims\"\n        ],\n        \"semantic_type\": \"\",\n        \"description\": \"\"\n      }\n    },\n    {\n      \"column\": \"gamesPlayed\",\n      \"properties\": {\n        \"dtype\": \"number\",\n        \"std\": 21,\n        \"min\": 1,\n        \"max\": 69,\n        \"num_unique_values\": 22,\n        \"samples\": [\n          27\n        ],\n        \"semantic_type\": \"\",\n        \"description\": \"\"\n      }\n    },\n    {\n      \"column\": \"inningsPitched\",\n      \"properties\": {\n        \"dtype\": \"string\",\n        \"num_unique_values\": 31,\n        \"samples\": [\n          \"6.1\"\n        ],\n        \"semantic_type\": \"\",\n        \"description\": \"\"\n      }\n    },\n    {\n      \"column\": \"strikeouts\",\n      \"properties\": {\n        \"dtype\": \"number\",\n        \"std\": 50,\n        \"min\": 0,\n        \"max\": 202,\n        \"num_unique_values\": 27,\n        \"samples\": [\n          69\n        ],\n        \"semantic_type\": \"\",\n        \"description\": \"\"\n      }\n    },\n    {\n      \"column\": \"walks\",\n      \"properties\": {\n        \"dtype\": \"number\",\n        \"std\": 21,\n        \"min\": 0,\n        \"max\": 84,\n        \"num_unique_values\": 23,\n        \"samples\": [\n          6\n        ],\n        \"semantic_type\": \"\",\n        \"description\": \"\"\n      }\n    },\n    {\n      \"column\": \"homeRuns\",\n      \"properties\": {\n        \"dtype\": \"number\",\n        \"std\": 6,\n        \"min\": 0,\n        \"max\": 26,\n        \"num_unique_values\": 11,\n        \"samples\": [\n          5\n        ],\n        \"semantic_type\": \"\",\n        \"description\": \"\"\n      }\n    },\n    {\n      \"column\": \"earnedRuns\",\n      \"properties\": {\n        \"dtype\": \"number\",\n        \"std\": 19,\n        \"min\": 1,\n        \"max\": 77,\n        \"num_unique_values\": 23,\n        \"samples\": [\n          24\n        ],\n        \"semantic_type\": \"\",\n        \"description\": \"\"\n      }\n    }\n  ]\n}"
            }
          },
          "metadata": {},
          "execution_count": 35
        }
      ]
    },
    {
      "cell_type": "markdown",
      "source": [],
      "metadata": {
        "id": "Qf3kKQA0joiA"
      }
    },
    {
      "cell_type": "markdown",
      "source": [
        "## **Step 2: Data Preparation**\n",
        "The extracted data was organized into a pandas DataFrame. The columns included:\n",
        "\n",
        "* Player ID\n",
        "* Player Name\n",
        "* Games Played\n",
        "* Innings Pitched\n",
        "* Strikeouts\n",
        "* Walks\n",
        "* Home Runs\n",
        "\n",
        "The DataFrame was structured as follows:"
      ],
      "metadata": {
        "id": "dOP0mee0l6Vi"
      }
    },
    {
      "cell_type": "code",
      "source": [
        "\n",
        "\n",
        "# Load the player stats and PITCHBYPITCH data\n",
        "player_stats = pd.read_csv('/player_stats.csv')\n",
        "pitch_by_pitch = pd.read_csv('/PITCHBYPITCH.csv')\n",
        "\n",
        "# Display the first few rows of both dataframes to understand their structure\n",
        "print(pitch_by_pitch.head())\n"
      ],
      "metadata": {
        "colab": {
          "base_uri": "https://localhost:8080/"
        },
        "id": "zVWRU3tBGIl2",
        "outputId": "722c9c95-1cb9-428b-c651-dad4a4fd7728"
      },
      "execution_count": 60,
      "outputs": [
        {
          "output_type": "stream",
          "name": "stdout",
          "text": [
            "   GameKey  GameDate     PitcherName  PitcherID  PA_OF_INNING  PITCH_OF_PA  \\\n",
            "0   298505  6/6/2018  Venters, Jonny     458924             5            3   \n",
            "1   298505  6/6/2018  Venters, Jonny     458924             5            4   \n",
            "2   298505  6/6/2018  Venters, Jonny     458924             2            3   \n",
            "3   298505  6/6/2018  Venters, Jonny     458924             6            1   \n",
            "4   298505  6/6/2018  Venters, Jonny     458924             1            1   \n",
            "\n",
            "   INNING  TOP_BOT  BALLS  STRIKES SWING_TAKE  IS_SINGLE  IS_DOUBLE  \\\n",
            "0       1        2      2        0       take          0          0   \n",
            "1       1        2      2        1       take          0          0   \n",
            "2       1        2      2        0       take          0          0   \n",
            "3       1        2      0        0       take          0          0   \n",
            "4       1        2      0        0      swing          1          0   \n",
            "\n",
            "   IS_TRIPLE  IS_HOMERUN  IS_HIT  IS_OUT  LAST_PITCH_OF_PA  IS_STRIKEOUT  \n",
            "0          0           0       0       0                 0             0  \n",
            "1          0           0       0       0                 0             0  \n",
            "2          0           0       0       0                 0             0  \n",
            "3          0           0       0       0                 0             0  \n",
            "4          0           0       1       0                 1             0  \n"
          ]
        }
      ]
    },
    {
      "cell_type": "markdown",
      "source": [
        "## **Step 3: Save to CSV**\n",
        "The structured DataFrame was saved to a CSV file named player_stats.csv:"
      ],
      "metadata": {
        "id": "4Im8p0X_pv1t"
      }
    },
    {
      "cell_type": "code",
      "source": [
        "# prompt: export  player_stats_df to csv\n",
        "\n",
        "player_stats.to_csv('player_stats.csv', index=False)\n"
      ],
      "metadata": {
        "id": "uNd-pqn4wK1h"
      },
      "execution_count": 36,
      "outputs": []
    },
    {
      "cell_type": "markdown",
      "source": [
        "## **Step 4: Data Comparison**\n",
        "Comparison with PITCHBYPITCH Table\n",
        "The CSV file generated was compared with the PITCHBYPITCH database. In this case, I will compare by using the Player ID / Picther ID : 458924.\n"
      ],
      "metadata": {
        "id": "hn1oIasXqIfq"
      }
    },
    {
      "cell_type": "markdown",
      "source": [
        "### 1. Filter Data by Player ID / Pitcher ID (458924)"
      ],
      "metadata": {
        "id": "hzdIcpPGirDK"
      }
    },
    {
      "cell_type": "code",
      "source": [
        "# Filter the player_stats DataFrame by playerId\n",
        "filtered_player_stats = player_stats[player_stats['playerId'] == 458924]\n",
        "\n",
        "# Filter the pitch_by_pitch_df DataFrame by PitcherID\n",
        "filtered_pitch_by_pitch = pitch_by_pitch_df[pitch_by_pitch_df['PitcherID'] == 458924]\n"
      ],
      "metadata": {
        "id": "VChzMrNlirOv"
      },
      "execution_count": null,
      "outputs": []
    },
    {
      "cell_type": "markdown",
      "source": [
        "### 2. Processing and calculate player stats (458924) from PITCHBYPITCH.csv data"
      ],
      "metadata": {
        "id": "-kGUmISzNOJS"
      }
    },
    {
      "cell_type": "code",
      "source": [
        "# Calculate strikeouts for PitcherID 458924\n",
        "strikeouts_458924 = filtered_pitch_by_pitch[filtered_pitch_by_pitch['IS_STRIKEOUT'] == 1].groupby('PitcherID').size()\n",
        "\n",
        "# Calculate home runs allowed for PitcherID 458924\n",
        "home_runs_458924 = filtered_pitch_by_pitch[filtered_pitch_by_pitch['IS_HOMERUN'] == 1].groupby('PitcherID').size()\n",
        "\n",
        "# Calculate innings pitched for PitcherID 458924 (each out counts as 1/3 of an inning)\n",
        "innings_pitched_458924 = filtered_pitch_by_pitch[filtered_pitch_by_pitch['IS_OUT'] == 1].groupby('PitcherID').size() / 3\n",
        "\n",
        "# Calculate walks for PitcherID 458924 based on pitch count rule (BALLS = 4 and LAST_PITCH_OF_PA = 1)\n",
        "walks_458924 = filtered_pitch_by_pitch[(filtered_pitch_by_pitch['BALLS'] == 4) &\n",
        "                                       (filtered_pitch_by_pitch['LAST_PITCH_OF_PA'] == 1)].groupby('PitcherID').size()\n",
        "\n",
        "# Calculate earned runs for PitcherID 458924 based on scoring events\n",
        "earned_runs_458924 = filtered_pitch_by_pitch[(filtered_pitch_by_pitch['IS_HIT'] == 1) &\n",
        "                                             (filtered_pitch_by_pitch[['IS_SINGLE', 'IS_DOUBLE', 'IS_TRIPLE', 'IS_HOMERUN']].sum(axis=1) >= 1)\n",
        "                                            ].groupby('PitcherID').size()\n"
      ],
      "metadata": {
        "id": "br_Bl86mNQeY"
      },
      "execution_count": 42,
      "outputs": []
    },
    {
      "cell_type": "code",
      "source": [
        "# Create a comparison DataFrame for player_stats\n",
        "comparison_df = pd.DataFrame({\n",
        "    'playerId': [458924],\n",
        "    'gamesPlayed': filtered_player_stats['gamesPlayed'].values[0],\n",
        "    'inningsPitched_STATSAPI': filtered_player_stats['inningsPitched'].values[0],\n",
        "    'strikeouts_STATSAPI': filtered_player_stats['strikeouts'].values[0],\n",
        "    'walks_STATSAPI': filtered_player_stats['walks'].values[0],\n",
        "    'homeRuns_STATSAPI': filtered_player_stats['homeRuns'].values[0],\n",
        "\n",
        "    # Add PITCHBYPITCH calculated stats\n",
        "    'strikeouts_PITCHBYPITCH': strikeouts_458924.values[0] if len(strikeouts_458924) > 0 else 0,\n",
        "    'homeRuns_PITCHBYPITCH': home_runs_458924.values[0] if len(home_runs_458924) > 0 else 0,\n",
        "    'inningsPitched_PITCHBYPITCH': innings_pitched_458924.values[0] if len(innings_pitched_458924) > 0 else 0,\n",
        "    'walks_PITCHBYPITCH': walks_458924.values[0] if len(walks_458924) > 0 else 0,\n",
        "})\n",
        "\n",
        "# Display the comparison\n",
        "print(comparison_df)\n"
      ],
      "metadata": {
        "colab": {
          "base_uri": "https://localhost:8080/"
        },
        "id": "d6Ijr-_THhUB",
        "outputId": "ebf09c89-bee0-46a3-9a8f-c1fdf98b7067"
      },
      "execution_count": 63,
      "outputs": [
        {
          "output_type": "stream",
          "name": "stdout",
          "text": [
            "   playerId  gamesPlayed inningsPitched_STATSAPI  strikeouts_STATSAPI  \\\n",
            "0    458924           28                    20.1                   16   \n",
            "\n",
            "   walks_STATSAPI  homeRuns_STATSAPI  strikeouts_PITCHBYPITCH  \\\n",
            "0              10                  0                       27   \n",
            "\n",
            "   homeRuns_PITCHBYPITCH  inningsPitched_PITCHBYPITCH  walks_PITCHBYPITCH  \n",
            "0                      1                         33.0                   0  \n"
          ]
        }
      ]
    },
    {
      "cell_type": "markdown",
      "source": [
        "After running the code, We can see stats from the StatsAPI feed and the PITCHBYPITCH table side by side for comparison. Interesting things to look for might include:\n",
        "\n",
        "\n",
        "\n",
        "1.   Discrepancies between strikeouts, home runs, and innings pitched between the two sources.\n",
        "2.   Differences in the number of walks allowed."
      ],
      "metadata": {
        "id": "pyXKmMdvjDLJ"
      }
    },
    {
      "cell_type": "markdown",
      "source": [
        "### 3. **Notable Findings and Discrepancies**\n",
        "Comparison of StatsAPI Data and PITCHBYPITCH Data\n",
        "1. Player ID:\n",
        "\n",
        "  The player ID 458924 is consistent across both datasets, ensuring that the data being compared corresponds to the same player.\n",
        "2. Games Played:\n",
        "\n",
        "  StatsAPI: 28 games played.\n",
        "  PITCHBYPITCH: Not available.\n",
        "\n",
        "3. Innings Pitched:\n",
        "  \n",
        "  StatsAPI: 20.1 innings pitched.\n",
        "  PITCHBYPITCH: 33.0 innings pitched.\n",
        "  There is a significant difference in innings pitched, with the PITCHBYPITCH data reporting 12.2 more innings.\n",
        "4. Strikeouts:\n",
        "  \n",
        "  StatsAPI: 16 strikeouts.\n",
        "  PITCHBYPITCH: 27 strikeouts.\n",
        "  The PITCHBYPITCH table reports 11 more strikeouts than the StatsAPI.\n",
        "5. Walks:\n",
        "\n",
        "  StatsAPI: 10 walks.\n",
        "  PITCHBYPITCH: 0 walks.\n",
        "  The PITCHBYPITCH data shows zero walks, indicating a significant inconsistency.\n",
        "\n",
        "6. Home Runs:\n",
        "\n",
        "  StatsAPI: 0 home runs allowed.\n",
        "  PITCHBYPITCH: 1 home run allowed.\n",
        "  The StatsAPI indicates no home runs allowed, while the PITCHBYPITCH data shows one home run."
      ],
      "metadata": {
        "id": "6y94esMCrVYa"
      }
    },
    {
      "cell_type": "markdown",
      "source": [
        "## **Summary**\n",
        "The comparison reveals several significant discrepancies between the StatsAPI data and the PITCHBYPITCH data for player ID 458924, particularly in innings pitched, strikeouts, walks, and home runs allowed. The notable findings suggest inconsistencies in how data is recorded or reported across the two sources, which may warrant further investigation."
      ],
      "metadata": {
        "id": "EvztWKhXrImA"
      }
    },
    {
      "source": [
        "# @title strikeouts\n",
        "\n",
        "from matplotlib import pyplot as plt\n",
        "player_stats_df['strikeouts'].plot(kind='hist', bins=20, title='strikeouts')\n",
        "plt.gca().spines[['top', 'right',]].set_visible(False)"
      ],
      "cell_type": "code",
      "execution_count": 59,
      "outputs": [
        {
          "output_type": "display_data",
          "data": {
            "text/plain": [
              "<Figure size 640x480 with 1 Axes>"
            ],
            "image/png": "[encoded data removed]"
          },
          "metadata": {}
        }
      ],
      "metadata": {
        "cellView": "form",
        "colab": {
          "base_uri": "https://localhost:8080/",
          "height": 452
        },
        "id": "xhYtJ5CykGB4",
        "outputId": "6f0abad4-0b46-4e8e-a4a5-0f92ac7dda4c"
      }
    },
    {
      "source": [
        "# @title gamesPlayed\n",
        "\n",
        "from matplotlib import pyplot as plt\n",
        "player_stats_df['gamesPlayed'].plot(kind='hist', bins=20, title='gamesPlayed')\n",
        "plt.gca().spines[['top', 'right',]].set_visible(False)"
      ],
      "cell_type": "code",
      "execution_count": 58,
      "outputs": [
        {
          "output_type": "display_data",
          "data": {
            "text/plain": [
              "<Figure size 640x480 with 1 Axes>"
            ],
            "image/png": "[encoded data removed]"
          },
          "metadata": {}
        }
      ],
      "metadata": {
        "cellView": "form",
        "colab": {
          "base_uri": "https://localhost:8080/",
          "height": 452
        },
        "id": "CZvoI8CwkDQm",
        "outputId": "f91baf39-807f-411c-adee-ac04338dd84f"
      }
    },
    {
      "source": [
        "# @title gamesPlayed vs strikeouts\n",
        "\n",
        "from matplotlib import pyplot as plt\n",
        "player_stats_df.plot(kind='scatter', x='gamesPlayed', y='strikeouts', s=32, alpha=.8)\n",
        "plt.gca().spines[['top', 'right',]].set_visible(False)"
      ],
      "cell_type": "code",
      "execution_count": 57,
      "outputs": [
        {
          "output_type": "display_data",
          "data": {
            "text/plain": [
              "<Figure size 640x480 with 1 Axes>"
            ],
            "image/png": "[encoded data removed]"
          },
          "metadata": {}
        }
      ],
      "metadata": {
        "cellView": "form",
        "colab": {
          "base_uri": "https://localhost:8080/",
          "height": 449
        },
        "id": "WggQLjHsjrlj",
        "outputId": "5f3e6559-a47d-4c31-d1b5-08cf09785807"
      }
    },
    {
      "source": [
        "# @title strikeouts vs walks\n",
        "\n",
        "from matplotlib import pyplot as plt\n",
        "player_stats_df.plot(kind='scatter', x='strikeouts', y='walks', s=32, alpha=.8)\n",
        "plt.gca().spines[['top', 'right',]].set_visible(False)"
      ],
      "cell_type": "code",
      "execution_count": 56,
      "outputs": [
        {
          "output_type": "display_data",
          "data": {
            "text/plain": [
              "<Figure size 640x480 with 1 Axes>"
            ],
            "image/png": "[encoded data removed]"
          },
          "metadata": {}
        }
      ],
      "metadata": {
        "colab": {
          "base_uri": "https://localhost:8080/",
          "height": 449
        },
        "id": "wfSdmwXvjmFd",
        "outputId": "8927bd6a-a124-4233-9e2d-6321d870af76"
      }
    }
  ]
}